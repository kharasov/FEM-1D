{
 "cells": [
  {
   "cell_type": "code",
   "execution_count": 57,
   "metadata": {
    "collapsed": false
   },
   "outputs": [],
   "source": [
    "import matplotlib.pyplot as plt\n",
    "import numpy as np\n",
    "%matplotlib inline\n",
    "from scipy.misc import derivative\n",
    "import scipy.integrate as integrate\n",
    "import math\n",
    "from numpy.linalg import solve"
   ]
  },
  {
   "cell_type": "code",
   "execution_count": 105,
   "metadata": {
    "collapsed": true
   },
   "outputs": [],
   "source": [
    "def right_func(x):\n",
    "    return x**2"
   ]
  },
  {
   "cell_type": "code",
   "execution_count": 106,
   "metadata": {
    "collapsed": true
   },
   "outputs": [],
   "source": [
    "def k(x):\n",
    "    return 1"
   ]
  },
  {
   "cell_type": "code",
   "execution_count": 107,
   "metadata": {
    "collapsed": false
   },
   "outputs": [],
   "source": [
    "def sol_func(x):\n",
    "    return -x**4/12 + x/12"
   ]
  },
  {
   "cell_type": "code",
   "execution_count": 108,
   "metadata": {
    "collapsed": false
   },
   "outputs": [],
   "source": [
    "n = 10 #number of intervals.\n",
    "# n+1 number of nodes\n",
    "h = 1.0/n\n",
    "x = np.linspace(0.,1.,n*10)"
   ]
  },
  {
   "cell_type": "code",
   "execution_count": 109,
   "metadata": {
    "collapsed": false
   },
   "outputs": [],
   "source": [
    "def basis_function(x,i):\n",
    "    if (i == 0) or (i == n+1):\n",
    "        return 0\n",
    "    elif (x <= (i-1)*h ) or (x >= (i+1)*h):\n",
    "        return 0\n",
    "    elif (x <= i*h):\n",
    "        return (x-(i-1)*h)*1.0/h\n",
    "    else:\n",
    "        return 1.0-(x-i*h)*1.0/h\n",
    "def basis_derivative(x,i):\n",
    "        if (i == 0) or (i == n+1):\n",
    "            return 0\n",
    "        elif (x <= (i-1)*h ) or (x >= (i+1)*h):\n",
    "            return 0\n",
    "        elif (x <= i*h):\n",
    "            return 1.0/h\n",
    "        else:\n",
    "            return -1.0/h\n"
   ]
  },
  {
   "cell_type": "code",
   "execution_count": 134,
   "metadata": {
    "collapsed": false
   },
   "outputs": [
    {
     "name": "stdout",
     "output_type": "stream",
     "text": [
      "[[ 200. -100.    0.    0.    0.    0.    0.    0.    0.]\n",
      " [-100.  200. -100.    0.    0.    0.    0.    0.    0.]\n",
      " [   0. -100.  200. -100.    0.    0.    0.    0.    0.]\n",
      " [   0.    0. -100.  200. -100.    0.    0.    0.    0.]\n",
      " [   0.    0.    0. -100.  200. -100.    0.    0.    0.]\n",
      " [   0.    0.    0.    0. -100.  200. -100.    0.    0.]\n",
      " [   0.    0.    0.    0.    0. -100.  200. -100.    0.]\n",
      " [   0.    0.    0.    0.    0.    0. -100.  200. -100.]\n",
      " [   0.    0.    0.    0.    0.    0.    0. -100.  200.]]\n"
     ]
    }
   ],
   "source": [
    "A = np.zeros ((n-1 , n-1))\n",
    "for i in range(n-1):\n",
    "    for j in range(i+1):\n",
    "        if abs(i-j) > 1:\n",
    "            A[i,j] = 0\n",
    "            A[j,i] = 0\n",
    "        else:\n",
    "            A[i,j] = 1.0/h*integrate.quad(lambda x: basis_derivative(x,i+1)*basis_derivative(x,j+1)*k(x),0,1)[0]\n",
    "            if i != j: \n",
    "                A[j,i] = A[i,j]\n",
    "print A"
   ]
  },
  {
   "cell_type": "code",
   "execution_count": 135,
   "metadata": {
    "collapsed": false
   },
   "outputs": [],
   "source": [
    "b = np.zeros(n-1)\n",
    "for i in range(n-1):\n",
    "    b[i] =  integrate.quad(lambda x: right_func(x)*basis_function(x,i+1) ,0,1)[0]\n",
    "b = b/h"
   ]
  },
  {
   "cell_type": "code",
   "execution_count": 136,
   "metadata": {
    "collapsed": false
   },
   "outputs": [
    {
     "name": "stdout",
     "output_type": "stream",
     "text": [
      "[ 0.008325    0.01653333  0.024325    0.0312      0.03645833  0.0392\n",
      "  0.038325    0.03253333  0.020325  ]\n"
     ]
    }
   ],
   "source": [
    "z = solve(A,b)\n",
    "print z\n",
    "def u(x):\n",
    "    sum = 0\n",
    "    for i in range(n-1):\n",
    "            sum+= z[i]*basis_function(x,i+1) \n",
    "    return sum"
   ]
  },
  {
   "cell_type": "code",
   "execution_count": 137,
   "metadata": {
    "collapsed": false
   },
   "outputs": [
    {
     "data": {
      "text/plain": [
       "[<matplotlib.lines.Line2D at 0x133beeb8>]"
      ]
     },
     "execution_count": 137,
     "metadata": {},
     "output_type": "execute_result"
    },
    {
     "data": {
      "image/png": "[encoded data removed]",
      "text/plain": [
       "<matplotlib.figure.Figure at 0xa74a400>"
      ]
     },
     "metadata": {},
     "output_type": "display_data"
    }
   ],
   "source": [
    "y = np.zeros(10*n)\n",
    "y2 = np.zeros(10*n)\n",
    "for i in range(10*n):\n",
    "     y[i] = u(x[i])\n",
    "     y2[i] = sol_func(x[i])   \n",
    "       \n",
    "plt.plot(x,y,\"r\")\n",
    "plt.plot(x,y2,\"g\")\n"
   ]
  },
  {
   "cell_type": "code",
   "execution_count": null,
   "metadata": {
    "collapsed": true
   },
   "outputs": [],
   "source": []
  },
  {
   "cell_type": "code",
   "execution_count": null,
   "metadata": {
    "collapsed": true
   },
   "outputs": [],
   "source": []
  },
  {
   "cell_type": "code",
   "execution_count": null,
   "metadata": {
    "collapsed": true
   },
   "outputs": [],
   "source": []
  }
 ],
 "metadata": {
  "kernelspec": {
   "display_name": "Python 2",
   "language": "python",
   "name": "python2"
  },
  "language_info": {
   "codemirror_mode": {
    "name": "ipython",
    "version": 2
   },
   "file_extension": ".py",
   "mimetype": "text/x-python",
   "name": "python",
   "nbconvert_exporter": "python",
   "pygments_lexer": "ipython2",
   "version": "2.7.10"
  }
 },
 "nbformat": 4,
 "nbformat_minor": 0
}
